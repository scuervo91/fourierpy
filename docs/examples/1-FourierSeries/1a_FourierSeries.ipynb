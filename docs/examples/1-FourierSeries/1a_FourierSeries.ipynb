{
 "cells": [
  {
   "cell_type": "markdown",
   "metadata": {},
   "source": [
    "# Fourier Series Calculations"
   ]
  },
  {
   "cell_type": "code",
   "execution_count": null,
   "metadata": {},
   "outputs": [
    {
     "ename": "",
     "evalue": "",
     "output_type": "error",
     "traceback": [
      "\u001b[1;31mFailed to start the Kernel. \n",
      "The 'python3813jvsc74a57bd08f1ae7ec26e863b1af3c1925d5274beea4a12236715f2fbbb2371a88deed1ec1' kernel is not available. Please pick another suitable kernel instead, or install that kernel. \n",
      "View Jupyter <a href='command:jupyter.viewOutput'>log</a> for further details."
     ]
    }
   ],
   "source": [
    "import numpy as np\n",
    "from fourierpy import FourierTrig, FourierExp\n",
    "import matplotlib.pyplot as plt"
   ]
  },
  {
   "cell_type": "code",
   "execution_count": null,
   "metadata": {},
   "outputs": [
    {
     "ename": "",
     "evalue": "",
     "output_type": "error",
     "traceback": [
      "\u001b[1;31mFailed to start the Kernel. \n",
      "The 'python3813jvsc74a57bd08f1ae7ec26e863b1af3c1925d5274beea4a12236715f2fbbb2371a88deed1ec1' kernel is not available. Please pick another suitable kernel instead, or install that kernel. \n",
      "View Jupyter <a href='command:jupyter.viewOutput'>log</a> for further details."
     ]
    }
   ],
   "source": [
    "## Aprroximate functions\n"
   ]
  },
  {
   "cell_type": "code",
   "execution_count": null,
   "metadata": {},
   "outputs": [],
   "source": [
    "def square(x):\n",
    "    return np.square(x) * np.cos(x)"
   ]
  },
  {
   "cell_type": "code",
   "execution_count": null,
   "metadata": {},
   "outputs": [],
   "source": [
    "time = np.linspace(0,2*np.pi,1000)\n",
    "y = square(time)\n",
    "\n",
    "plt.plot(time,y)\n"
   ]
  },
  {
   "cell_type": "code",
   "execution_count": null,
   "metadata": {},
   "outputs": [],
   "source": [
    "f1 = FourierTrig.fit(time,y,10)\n",
    "f1"
   ]
  },
  {
   "cell_type": "code",
   "execution_count": null,
   "metadata": {},
   "outputs": [],
   "source": [
    "f2 = FourierExp.fit(time,y,10)\n",
    "f2"
   ]
  },
  {
   "cell_type": "code",
   "execution_count": null,
   "metadata": {},
   "outputs": [],
   "source": [
    "time_fs1 =np.linspace(0,2*np.pi,1000)\n",
    "\n",
    "fs1 = f1.forward(time_fs1)\n",
    "plt.plot(time,y, label ='original')\n",
    "plt.plot(time_fs1,fs1, label ='Fourier')\n",
    "plt.legend()\n"
   ]
  },
  {
   "cell_type": "code",
   "execution_count": null,
   "metadata": {},
   "outputs": [],
   "source": [
    "time_fs2 =np.linspace(0,2*np.pi,1000)\n",
    "\n",
    "fs2 = f2.forward(time_fs2)\n",
    "plt.plot(time,y, label ='original')\n",
    "plt.plot(time_fs2,fs2.real, label ='Fourier')\n",
    "plt.legend()"
   ]
  },
  {
   "cell_type": "code",
   "execution_count": null,
   "metadata": {},
   "outputs": [],
   "source": [
    "## Discontinious functions"
   ]
  },
  {
   "cell_type": "code",
   "execution_count": null,
   "metadata": {},
   "outputs": [],
   "source": [
    "x2 = np.linspace(0,20,1000)\n",
    "y2 = np.zeros(1000)\n",
    "y2[x2>15] = 1\n",
    "y2[x2<12] = 7.45\n",
    "\n",
    "f3 = FourierTrig.fit(x2,y2,10)\n",
    "f4 = FourierExp.fit(x2,y2,10)\n",
    "\n",
    "fs3 = f3.forward(x2)\n",
    "fs4 = f4.forward(x2)\n",
    "\n",
    "fig, ax = plt.subplots(2,1)\n",
    "ax[0].plot(x2,y2, label ='original')\n",
    "ax[1].plot(x2,y2, label ='original')\n",
    "ax[0].plot(x2,fs3, label ='Fourier Trigonometric')\n",
    "ax[1].plot(x2,fs4, label ='Fourier Exponential')\n"
   ]
  },
  {
   "cell_type": "code",
   "execution_count": null,
   "metadata": {},
   "outputs": [],
   "source": [
    "x3 = np.linspace(0,20,1000)\n",
    "y3 = np.zeros(1000)\n",
    "y3[x3>15] = 1\n",
    "y3[x3>16] = 0\n",
    "\n",
    "f5 = FourierExp.fit(x3,y3,10)\n",
    "\n",
    "\n",
    "fs5 = f5.forward(x3)\n",
    "\n",
    "plt.plot(x3,y3, label ='original')\n",
    "plt.plot(x3,fs5, label ='Fourier')\n",
    "plt.legend()"
   ]
  },
  {
   "cell_type": "code",
   "execution_count": null,
   "metadata": {},
   "outputs": [],
   "source": [
    "plt.plot(fs4.real,fs4.imag, label ='Fourier')"
   ]
  }
 ],
 "metadata": {
  "interpreter": {
   "hash": "8f1ae7ec26e863b1af3c1925d5274beea4a12236715f2fbbb2371a88deed1ec1"
  },
  "kernelspec": {
   "display_name": "Python 3.8.13 ('fourierpy')",
   "language": "python",
   "name": "python3"
  },
  "language_info": {
   "codemirror_mode": {
    "name": "ipython",
    "version": 3
   },
   "file_extension": ".py",
   "mimetype": "text/x-python",
   "name": "python",
   "nbconvert_exporter": "python",
   "pygments_lexer": "ipython3",
   "version": "3.8.13"
  },
  "metadata": {
   "interpreter": {
    "hash": "d106267c04e6145d83010fb2dd214d5be59429975b28f12da9a4a55efa87a298"
   }
  },
  "orig_nbformat": 2
 },
 "nbformat": 4,
 "nbformat_minor": 2
}
